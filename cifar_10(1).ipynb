{
  "nbformat": 4,
  "nbformat_minor": 0,
  "metadata": {
    "colab": {
      "name": "cifar-10.ipynb",
      "provenance": []
    },
    "kernelspec": {
      "name": "python3",
      "display_name": "Python 3"
    },
    "language_info": {
      "name": "python"
    },
    "accelerator": "GPU"
  },
  "cells": [
    {
      "cell_type": "markdown",
      "metadata": {
        "id": "IHQINhLsYOIK"
      },
      "source": [
        ""
      ]
    },
    {
      "cell_type": "code",
      "metadata": {
        "id": "t8hhghtjCJGP"
      },
      "source": [
        "import torch \n",
        "import torch.nn as nn\n",
        "import torchvision\n",
        "import torchvision.transforms as transforms\n",
        "from torchvision import datasets\n",
        "import matplotlib.pyplot as plt\n",
        "import numpy as np\n",
        "from torch.utils.data import random_split\n",
        "from torch.utils.data import Dataset, DataLoader\n",
        "from typing import Dict, Any, Type"
      ],
      "execution_count": 21,
      "outputs": []
    },
    {
      "cell_type": "code",
      "metadata": {
        "colab": {
          "base_uri": "https://localhost:8080/"
        },
        "id": "DXhIufQpYOpv",
        "outputId": "091d2650-1f37-4930-878a-d0e939ec06eb"
      },
      "source": [
        "torch.manual_seed(21)"
      ],
      "execution_count": 22,
      "outputs": [
        {
          "output_type": "execute_result",
          "data": {
            "text/plain": [
              "<torch._C.Generator at 0x7fe233697590>"
            ]
          },
          "metadata": {
            "tags": []
          },
          "execution_count": 22
        }
      ]
    },
    {
      "cell_type": "code",
      "metadata": {
        "id": "IZSwtsZ2FXOY"
      },
      "source": [
        "device = torch.device('cuda:0' if torch.cuda.is_available() else 'cpu')"
      ],
      "execution_count": 23,
      "outputs": []
    },
    {
      "cell_type": "code",
      "metadata": {
        "id": "IFFZ5GxJk11_"
      },
      "source": [
        "transform_train = transforms.Compose([\n",
        "    transforms.RandomCrop(32, padding=4),\n",
        "    transforms.RandomHorizontalFlip(),\n",
        "    transforms.ToTensor(),\n",
        "    transforms.Normalize((0.4914, 0.4822, 0.4465), (0.2023, 0.1994, 0.2010)),   #это для ImageNet, предположим, что такие значения подойдут\n",
        "    # torchvision.transforms.transforms.RandomAffine(\n",
        "    #                           degrees=30, translate=(0.5, 0.5), scale=(0.25, 1),\n",
        "    #                           shear=(-30, 30, -30, 30)),\n",
        "    torchvision.transforms.RandomVerticalFlip()\n",
        "])\n",
        "\n",
        "transform_test = transforms.Compose([\n",
        "    transforms.ToTensor(),\n",
        "    transforms.Normalize((0.4914, 0.4822, 0.4465), (0.2023, 0.1994, 0.2010))\n",
        "])"
      ],
      "execution_count": 24,
      "outputs": []
    },
    {
      "cell_type": "code",
      "metadata": {
        "colab": {
          "base_uri": "https://localhost:8080/"
        },
        "id": "r-KOJ-4zjqiY",
        "outputId": "73519c7b-80fe-4918-842a-88a4cc8340ce"
      },
      "source": [
        "train_dataset = datasets.CIFAR10('./cifar10', train=True, download=True, transform=transform_train)\n",
        "test_dataset = datasets.CIFAR10('./cifar10', train=False, download=True, transform =transform_test)"
      ],
      "execution_count": 25,
      "outputs": [
        {
          "output_type": "stream",
          "text": [
            "Files already downloaded and verified\n",
            "Files already downloaded and verified\n"
          ],
          "name": "stdout"
        }
      ]
    },
    {
      "cell_type": "code",
      "metadata": {
        "id": "KYHl0JwLkDni"
      },
      "source": [
        "num_classes = len(train_dataset.classes)"
      ],
      "execution_count": 26,
      "outputs": []
    },
    {
      "cell_type": "code",
      "metadata": {
        "id": "NZfehnAPH5x4"
      },
      "source": [
        "classes = ('plane', 'car', 'bird', 'cat',\n",
        "           'deer', 'dog', 'frog', 'horse', 'ship', 'truck')"
      ],
      "execution_count": 27,
      "outputs": []
    },
    {
      "cell_type": "code",
      "metadata": {
        "colab": {
          "base_uri": "https://localhost:8080/",
          "height": 301
        },
        "id": "GEWYF-ptWzP5",
        "outputId": "9aecc94d-c56a-46e0-fd5f-71e997145e51"
      },
      "source": [
        "img, label = train_dataset[7]\n",
        "plt.imshow(img.permute((1, 2, 0)))\n",
        "print('class:', classes[label])"
      ],
      "execution_count": 28,
      "outputs": [
        {
          "output_type": "stream",
          "text": [
            "Clipping input data to the valid range for imshow with RGB data ([0..1] for floats or [0..255] for integers).\n"
          ],
          "name": "stderr"
        },
        {
          "output_type": "stream",
          "text": [
            "class: horse\n"
          ],
          "name": "stdout"
        },
        {
          "output_type": "display_data",
          "data": {
            "image/png": "[encoded data removed]",
            "text/plain": [
              "<Figure size 432x288 with 1 Axes>"
            ]
          },
          "metadata": {
            "tags": [],
            "needs_background": "light"
          }
        }
      ]
    },
    {
      "cell_type": "code",
      "metadata": {
        "id": "NcTcA2oIqtaP"
      },
      "source": [
        "val_size = 5000\n",
        "test_size = 5000\n",
        "\n",
        "test_dataset, val_dataset = random_split(test_dataset, [test_size, val_size])"
      ],
      "execution_count": 29,
      "outputs": []
    },
    {
      "cell_type": "code",
      "metadata": {
        "id": "z7NQYHSbHTPR"
      },
      "source": [
        "train_loader = torch.utils.data.DataLoader(dataset=train_dataset,\n",
        "                                           batch_size=256, \n",
        "                                           shuffle=True)\n",
        "\n",
        "val_loader = torch.utils.data.DataLoader(dataset=val_dataset,\n",
        "                                          batch_size=256, \n",
        "                                          shuffle=False)\n",
        "\n",
        "test_loader = torch.utils.data.DataLoader(dataset=test_dataset,\n",
        "                                          batch_size=256, \n",
        "                                          shuffle=False)"
      ],
      "execution_count": 30,
      "outputs": []
    },
    {
      "cell_type": "code",
      "metadata": {
        "colab": {
          "base_uri": "https://localhost:8080/"
        },
        "id": "jDFUcUT_qiJx",
        "outputId": "017244e5-080a-4c27-b58f-5398010a26dc"
      },
      "source": [
        "print('Number of classes:', num_classes)\n",
        "print('Train dataset size:', len(train_dataset))\n",
        "print('Val dataset size:', len(val_dataset))\n",
        "print('Test dataset size:', len(test_dataset))"
      ],
      "execution_count": 31,
      "outputs": [
        {
          "output_type": "stream",
          "text": [
            "Number of classes: 10\n",
            "Train dataset size: 50000\n",
            "Val dataset size: 5000\n",
            "Test dataset size: 5000\n"
          ],
          "name": "stdout"
        }
      ]
    },
    {
      "cell_type": "code",
      "metadata": {
        "colab": {
          "base_uri": "https://localhost:8080/"
        },
        "id": "19dNX_yCHoIm",
        "outputId": "270ed590-4453-47f7-9d3d-3bb413c0ca05"
      },
      "source": [
        "!nvidia-smi"
      ],
      "execution_count": 32,
      "outputs": [
        {
          "output_type": "stream",
          "text": [
            "Tue Jul  6 15:07:47 2021       \n",
            "+-----------------------------------------------------------------------------+\n",
            "| NVIDIA-SMI 465.27       Driver Version: 460.32.03    CUDA Version: 11.2     |\n",
            "|-------------------------------+----------------------+----------------------+\n",
            "| GPU  Name        Persistence-M| Bus-Id        Disp.A | Volatile Uncorr. ECC |\n",
            "| Fan  Temp  Perf  Pwr:Usage/Cap|         Memory-Usage | GPU-Util  Compute M. |\n",
            "|                               |                      |               MIG M. |\n",
            "|===============================+======================+======================|\n",
            "|   0  Tesla T4            Off  | 00000000:00:04.0 Off |                    0 |\n",
            "| N/A   71C    P0    33W /  70W |   1068MiB / 15109MiB |      0%      Default |\n",
            "|                               |                      |                  N/A |\n",
            "+-------------------------------+----------------------+----------------------+\n",
            "                                                                               \n",
            "+-----------------------------------------------------------------------------+\n",
            "| Processes:                                                                  |\n",
            "|  GPU   GI   CI        PID   Type   Process name                  GPU Memory |\n",
            "|        ID   ID                                                   Usage      |\n",
            "|=============================================================================|\n",
            "+-----------------------------------------------------------------------------+\n"
          ],
          "name": "stdout"
        }
      ]
    },
    {
      "cell_type": "code",
      "metadata": {
        "id": "R2vh3eTWg7tw"
      },
      "source": [
        "class ConvBlock(nn.Module):\n",
        "    def __init__(self, in_channels, out_channels, kernel_size=3, stride=1, padding=1):\n",
        "        super(ConvBlock, self).__init__()\n",
        "        self.conv = nn.Conv2d(in_channels, out_channels, kernel_size, stride=stride, padding=padding, bias=False)\n",
        "        self.relu = nn.LeakyReLU()\n",
        "        self.bn = nn.BatchNorm2d(out_channels)\n",
        "    \n",
        "    def forward(self, in_tensor):\n",
        "        out = self.conv(in_tensor)\n",
        "        out = self.relu(self.bn(out))\n",
        "        return out\n",
        "\n",
        "class VGG_like(nn.Module):\n",
        "    def __init__(self, num_classes):\n",
        "        super(VGG_like, self).__init__()\n",
        "        self.num_classes = num_classes\n",
        "        self.in_preproc = nn.Sequential(\n",
        "            ConvBlock(3, 64),\n",
        "            nn.MaxPool2d((2, 2))\n",
        "        )\n",
        "        self.layer = nn.Sequential(\n",
        "            ConvBlock(64, 64),\n",
        "            ConvBlock(64, 64),\n",
        "            nn.MaxPool2d((2, 2)),\n",
        "            ConvBlock(64, 128),\n",
        "            ConvBlock(128, 128),\n",
        "            nn.MaxPool2d((2, 2)),\n",
        "            ConvBlock(128, 128),\n",
        "            nn.AdaptiveAvgPool2d(1)\n",
        "        )\n",
        "        self.classifier = nn.Sequential(\n",
        "            nn.Dropout(p=0.25),\n",
        "            nn.Linear(128, 128),\n",
        "            nn.ReLU(inplace=True),\n",
        "            nn.Linear(128, self.num_classes)\n",
        "        )\n",
        "        \n",
        "    def forward(self, in_tensor):\n",
        "        x = self.in_preproc(in_tensor)\n",
        "        x = self.layer(x)\n",
        "        x = torch.flatten(x, 1)\n",
        "        logits = self.classifier(x)\n",
        "        return logits"
      ],
      "execution_count": 33,
      "outputs": []
    },
    {
      "cell_type": "code",
      "metadata": {
        "id": "U2HzeJ8PdPBu"
      },
      "source": [
        "model = VGG_like(num_classes=num_classes)"
      ],
      "execution_count": 34,
      "outputs": []
    },
    {
      "cell_type": "code",
      "metadata": {
        "colab": {
          "base_uri": "https://localhost:8080/"
        },
        "id": "wCiN-VTIthBy",
        "outputId": "63630b37-6944-4c8d-f24d-2a8116b89c17"
      },
      "source": [
        "model.to(device)"
      ],
      "execution_count": 35,
      "outputs": [
        {
          "output_type": "execute_result",
          "data": {
            "text/plain": [
              "VGG_like(\n",
              "  (in_preproc): Sequential(\n",
              "    (0): ConvBlock(\n",
              "      (conv): Conv2d(3, 64, kernel_size=(3, 3), stride=(1, 1), padding=(1, 1), bias=False)\n",
              "      (relu): LeakyReLU(negative_slope=0.01)\n",
              "      (bn): BatchNorm2d(64, eps=1e-05, momentum=0.1, affine=True, track_running_stats=True)\n",
              "    )\n",
              "    (1): MaxPool2d(kernel_size=(2, 2), stride=(2, 2), padding=0, dilation=1, ceil_mode=False)\n",
              "  )\n",
              "  (layer): Sequential(\n",
              "    (0): ConvBlock(\n",
              "      (conv): Conv2d(64, 64, kernel_size=(3, 3), stride=(1, 1), padding=(1, 1), bias=False)\n",
              "      (relu): LeakyReLU(negative_slope=0.01)\n",
              "      (bn): BatchNorm2d(64, eps=1e-05, momentum=0.1, affine=True, track_running_stats=True)\n",
              "    )\n",
              "    (1): ConvBlock(\n",
              "      (conv): Conv2d(64, 64, kernel_size=(3, 3), stride=(1, 1), padding=(1, 1), bias=False)\n",
              "      (relu): LeakyReLU(negative_slope=0.01)\n",
              "      (bn): BatchNorm2d(64, eps=1e-05, momentum=0.1, affine=True, track_running_stats=True)\n",
              "    )\n",
              "    (2): MaxPool2d(kernel_size=(2, 2), stride=(2, 2), padding=0, dilation=1, ceil_mode=False)\n",
              "    (3): ConvBlock(\n",
              "      (conv): Conv2d(64, 128, kernel_size=(3, 3), stride=(1, 1), padding=(1, 1), bias=False)\n",
              "      (relu): LeakyReLU(negative_slope=0.01)\n",
              "      (bn): BatchNorm2d(128, eps=1e-05, momentum=0.1, affine=True, track_running_stats=True)\n",
              "    )\n",
              "    (4): ConvBlock(\n",
              "      (conv): Conv2d(128, 128, kernel_size=(3, 3), stride=(1, 1), padding=(1, 1), bias=False)\n",
              "      (relu): LeakyReLU(negative_slope=0.01)\n",
              "      (bn): BatchNorm2d(128, eps=1e-05, momentum=0.1, affine=True, track_running_stats=True)\n",
              "    )\n",
              "    (5): MaxPool2d(kernel_size=(2, 2), stride=(2, 2), padding=0, dilation=1, ceil_mode=False)\n",
              "    (6): ConvBlock(\n",
              "      (conv): Conv2d(128, 128, kernel_size=(3, 3), stride=(1, 1), padding=(1, 1), bias=False)\n",
              "      (relu): LeakyReLU(negative_slope=0.01)\n",
              "      (bn): BatchNorm2d(128, eps=1e-05, momentum=0.1, affine=True, track_running_stats=True)\n",
              "    )\n",
              "    (7): AdaptiveAvgPool2d(output_size=1)\n",
              "  )\n",
              "  (classifier): Sequential(\n",
              "    (0): Dropout(p=0.25, inplace=False)\n",
              "    (1): Linear(in_features=128, out_features=128, bias=True)\n",
              "    (2): ReLU(inplace=True)\n",
              "    (3): Linear(in_features=128, out_features=10, bias=True)\n",
              "  )\n",
              ")"
            ]
          },
          "metadata": {
            "tags": []
          },
          "execution_count": 35
        }
      ]
    },
    {
      "cell_type": "code",
      "metadata": {
        "id": "BfRPFO-Z3dxb"
      },
      "source": [
        "from tqdm import tqdm"
      ],
      "execution_count": 36,
      "outputs": []
    },
    {
      "cell_type": "code",
      "metadata": {
        "id": "hoj_Tv0z3JfN"
      },
      "source": [
        "def train_single_epoch(model: torch.nn.Module,\n",
        "                                    optimizer: torch.optim.Optimizer, \n",
        "                                    loss_classifier: torch.nn.Module,\n",
        "                                    data_loader: torch.utils.data.DataLoader,\n",
        "                                    epoch: int):\n",
        "    \n",
        "    model.train()\n",
        "    loss_value = []\n",
        "    pbar = tqdm(data_loader)\n",
        "    for x, y in data_loader:\n",
        "        x = x.to(device)\n",
        "        y = y.to(device=device, dtype=torch.int64)\n",
        "        optimizer.zero_grad()\n",
        "        y_pred = model(x)\n",
        "\n",
        "        loss = loss_classifier(y_pred, y).float()\n",
        "        loss.backward()\n",
        "        loss_value.append(loss.item())\n",
        "        optimizer.step()\n",
        "        pbar.set_postfix({'loss': loss.item()})\n",
        "        pbar.update(1)\n",
        "    pbar.close()      \n",
        "    \n",
        "    return loss_value"
      ],
      "execution_count": 37,
      "outputs": []
    },
    {
      "cell_type": "code",
      "metadata": {
        "id": "1K8YGn1l3ibT"
      },
      "source": [
        "def validate_single_epoch(model: torch.nn.Module,\n",
        "                                       loss_classifier: torch.nn.Module, \n",
        "                                       data_loader: torch.utils.data.DataLoader):\n",
        "    \n",
        "    val_results = {'loss': 0, 'accuracy': 0}\n",
        "    \n",
        "    model.eval()\n",
        "    pbar = tqdm(data_loader)\n",
        "    with torch.no_grad():\n",
        "        for x, y in data_loader:\n",
        "            x = x.to(device)\n",
        "            y = y.long()\n",
        "            y = y.to(device=device, dtype=torch.int64)\n",
        "            y_pred = model(x)\n",
        "            loss = loss_classifier(y_pred, y).float().item()\n",
        "            accuracy = torch.sum(torch.argmax(y_pred, dim=1) == y).to(torch.float).item()\n",
        "            val_results['loss'] += loss\n",
        "            val_results['accuracy'] += accuracy\n",
        "            pbar.update(1)\n",
        "            #pbar.set_postfix({'loss': loss, 'accuracy': accuracy})\n",
        "        val_results['loss'] /= len(data_loader.dataset)\n",
        "        val_results['accuracy'] /= len(data_loader.dataset)\n",
        "\n",
        "    pbar.close()\n",
        "    return val_results"
      ],
      "execution_count": 38,
      "outputs": []
    },
    {
      "cell_type": "code",
      "metadata": {
        "id": "2fIPOLIH300y"
      },
      "source": [
        "def train_model(model: torch.nn.Module, \n",
        "                train_loader: DataLoader,\n",
        "                val_loader: DataLoader,\n",
        "                loss_classifier: torch.nn.Module = torch.nn.CrossEntropyLoss(),\n",
        "                optimizer_class: Type[torch.optim.Optimizer] = torch.optim,\n",
        "                optimizer_params: Dict = {},\n",
        "                initial_lr = 0.001,\n",
        "                lr_scheduler_class: Any = torch.optim.lr_scheduler.ReduceLROnPlateau,\n",
        "                lr_scheduler_params: Dict = {},\n",
        "                max_epochs = 10):\n",
        "\n",
        "    optimizer = torch.optim.Adam([\n",
        "                {'params': model.parameters(), 'lr': 1e-4},\n",
        "            ], **optimizer_params)\n",
        "    lr_scheduler = lr_scheduler_class(optimizer, **lr_scheduler_params)\n",
        "\n",
        "    best_val_loss = None\n",
        "    best_epoch = None\n",
        "    \n",
        "    loss_history = []\n",
        "    history = []\n",
        "    for epoch in range(max_epochs):\n",
        "\n",
        "        print(f'Epoch {epoch + 1}/{max_epochs}')\n",
        "        train_epoch_loss_history = train_single_epoch(model, optimizer, loss_classifier, train_loader, epoch)\n",
        "        loss_history = loss_history+train_epoch_loss_history\n",
        "        history.append(train_epoch_loss_history)\n",
        "\n",
        "        val_metrics = validate_single_epoch(model, loss_classifier, val_loader)\n",
        "\n",
        "        print(f'Validation metrics: \\n{val_metrics}')\n",
        "\n",
        "        lr_scheduler.step(val_metrics['loss'])\n",
        "        \n",
        "        if best_val_loss is None or best_val_loss > val_metrics['loss']:\n",
        "            print(f'Best model yet, saving')\n",
        "            best_val_loss = val_metrics['loss']\n",
        "            best_epoch = epoch\n",
        "            torch.save(model, './best_model.pth')\n",
        "\n",
        "        torch.save(model.state_dict(), f\"./model_on_epoch_{epoch}.pth\")\n",
        "\n",
        "    return loss_history"
      ],
      "execution_count": 39,
      "outputs": []
    },
    {
      "cell_type": "code",
      "metadata": {
        "colab": {
          "base_uri": "https://localhost:8080/"
        },
        "id": "7r6b2ct_4kmQ",
        "outputId": "5003da9d-373a-48b7-b120-6f684db1865e"
      },
      "source": [
        "history +=train_model(model, \n",
        "            train_loader=train_loader, \n",
        "            val_loader=val_loader, \n",
        "            loss_classifier=torch.nn.CrossEntropyLoss(),\n",
        "            lr_scheduler_params={'factor': 0.3, 'patience': 5},\n",
        "            initial_lr=0.00001,\n",
        "            max_epochs=10)"
      ],
      "execution_count": 64,
      "outputs": [
        {
          "output_type": "stream",
          "text": [
            "  1%|          | 1/196 [00:00<00:28,  6.94it/s, loss=0.697]"
          ],
          "name": "stderr"
        },
        {
          "output_type": "stream",
          "text": [
            "Epoch 1/10\n"
          ],
          "name": "stdout"
        },
        {
          "output_type": "stream",
          "text": [
            "100%|██████████| 196/196 [00:24<00:00,  7.92it/s, loss=0.57]\n",
            "100%|██████████| 20/20 [00:01<00:00, 17.81it/s]\n",
            "  1%|          | 1/196 [00:00<00:25,  7.78it/s, loss=0.668]"
          ],
          "name": "stderr"
        },
        {
          "output_type": "stream",
          "text": [
            "Validation metrics: \n",
            "{'loss': 0.0031045831441879274, 'accuracy': 0.7258}\n",
            "Best model yet, saving\n",
            "Epoch 2/10\n"
          ],
          "name": "stdout"
        },
        {
          "output_type": "stream",
          "text": [
            "100%|██████████| 196/196 [00:25<00:00,  7.84it/s, loss=0.703]\n",
            "100%|██████████| 20/20 [00:01<00:00, 18.05it/s]\n",
            "  1%|          | 1/196 [00:00<00:25,  7.73it/s, loss=0.672]"
          ],
          "name": "stderr"
        },
        {
          "output_type": "stream",
          "text": [
            "Validation metrics: \n",
            "{'loss': 0.0030705315232276917, 'accuracy': 0.73}\n",
            "Best model yet, saving\n",
            "Epoch 3/10\n"
          ],
          "name": "stdout"
        },
        {
          "output_type": "stream",
          "text": [
            "100%|██████████| 196/196 [00:24<00:00,  8.02it/s, loss=0.61]\n",
            "100%|██████████| 20/20 [00:01<00:00, 18.64it/s]\n",
            "  1%|          | 1/196 [00:00<00:24,  7.90it/s, loss=0.66]"
          ],
          "name": "stderr"
        },
        {
          "output_type": "stream",
          "text": [
            "Validation metrics: \n",
            "{'loss': 0.0029695085883140564, 'accuracy': 0.7418}\n",
            "Best model yet, saving\n",
            "Epoch 4/10\n"
          ],
          "name": "stdout"
        },
        {
          "output_type": "stream",
          "text": [
            "100%|██████████| 196/196 [00:24<00:00,  8.05it/s, loss=0.683]\n",
            "100%|██████████| 20/20 [00:01<00:00, 16.75it/s]\n",
            "  1%|          | 1/196 [00:00<00:28,  6.87it/s, loss=0.729]"
          ],
          "name": "stderr"
        },
        {
          "output_type": "stream",
          "text": [
            "Validation metrics: \n",
            "{'loss': 0.0028777610063552856, 'accuracy': 0.748}\n",
            "Best model yet, saving\n",
            "Epoch 5/10\n"
          ],
          "name": "stdout"
        },
        {
          "output_type": "stream",
          "text": [
            "100%|██████████| 196/196 [00:24<00:00,  8.04it/s, loss=0.948]\n",
            "100%|██████████| 20/20 [00:01<00:00, 17.87it/s]\n",
            "  1%|          | 1/196 [00:00<00:24,  8.08it/s, loss=0.684]"
          ],
          "name": "stderr"
        },
        {
          "output_type": "stream",
          "text": [
            "Validation metrics: \n",
            "{'loss': 0.003015303146839142, 'accuracy': 0.7418}\n",
            "Epoch 6/10\n"
          ],
          "name": "stdout"
        },
        {
          "output_type": "stream",
          "text": [
            "100%|██████████| 196/196 [00:24<00:00,  8.06it/s, loss=0.54]\n",
            "100%|██████████| 20/20 [00:01<00:00, 19.10it/s]\n",
            "  1%|          | 1/196 [00:00<00:23,  8.42it/s, loss=0.653]"
          ],
          "name": "stderr"
        },
        {
          "output_type": "stream",
          "text": [
            "Validation metrics: \n",
            "{'loss': 0.0028595532417297364, 'accuracy': 0.7506}\n",
            "Best model yet, saving\n",
            "Epoch 7/10\n"
          ],
          "name": "stdout"
        },
        {
          "output_type": "stream",
          "text": [
            "100%|██████████| 196/196 [00:24<00:00,  7.97it/s, loss=0.566]\n",
            "100%|██████████| 20/20 [00:01<00:00, 18.06it/s]\n",
            "  1%|          | 1/196 [00:00<00:24,  7.81it/s, loss=0.555]"
          ],
          "name": "stderr"
        },
        {
          "output_type": "stream",
          "text": [
            "Validation metrics: \n",
            "{'loss': 0.0029759382605552675, 'accuracy': 0.7394}\n",
            "Epoch 8/10\n"
          ],
          "name": "stdout"
        },
        {
          "output_type": "stream",
          "text": [
            "100%|██████████| 196/196 [00:24<00:00,  8.01it/s, loss=0.509]\n",
            "100%|██████████| 20/20 [00:01<00:00, 18.52it/s]\n",
            "  1%|          | 1/196 [00:00<00:24,  7.89it/s, loss=0.555]"
          ],
          "name": "stderr"
        },
        {
          "output_type": "stream",
          "text": [
            "Validation metrics: \n",
            "{'loss': 0.002867679512500763, 'accuracy': 0.745}\n",
            "Epoch 9/10\n"
          ],
          "name": "stdout"
        },
        {
          "output_type": "stream",
          "text": [
            "100%|██████████| 196/196 [00:24<00:00,  8.07it/s, loss=0.584]\n",
            "100%|██████████| 20/20 [00:01<00:00, 18.48it/s]\n",
            "  1%|          | 1/196 [00:00<00:24,  7.88it/s, loss=0.577]"
          ],
          "name": "stderr"
        },
        {
          "output_type": "stream",
          "text": [
            "Validation metrics: \n",
            "{'loss': 0.0028447030544281006, 'accuracy': 0.754}\n",
            "Best model yet, saving\n",
            "Epoch 10/10\n"
          ],
          "name": "stdout"
        },
        {
          "output_type": "stream",
          "text": [
            "100%|██████████| 196/196 [00:24<00:00,  7.97it/s, loss=0.573]\n",
            "100%|██████████| 20/20 [00:01<00:00, 18.31it/s]"
          ],
          "name": "stderr"
        },
        {
          "output_type": "stream",
          "text": [
            "Validation metrics: \n",
            "{'loss': 0.0029866106510162355, 'accuracy': 0.7434}\n"
          ],
          "name": "stdout"
        },
        {
          "output_type": "stream",
          "text": [
            "\n"
          ],
          "name": "stderr"
        }
      ]
    },
    {
      "cell_type": "code",
      "metadata": {
        "colab": {
          "base_uri": "https://localhost:8080/",
          "height": 312
        },
        "id": "0uT_3kfFbqL4",
        "outputId": "ba5fd54d-a9e6-4ba6-8328-26bdca9b3735"
      },
      "source": [
        "plt.plot(history, '-o')\n",
        "plt.xlabel('epoch')\n",
        "plt.ylabel('loss')\n",
        "plt.title('Loss')"
      ],
      "execution_count": 65,
      "outputs": [
        {
          "output_type": "execute_result",
          "data": {
            "text/plain": [
              "Text(0.5, 1.0, 'Loss')"
            ]
          },
          "metadata": {
            "tags": []
          },
          "execution_count": 65
        },
        {
          "output_type": "display_data",
          "data": {
            "image/png": "[encoded data removed]",
            "text/plain": [
              "<Figure size 432x288 with 1 Axes>"
            ]
          },
          "metadata": {
            "tags": [],
            "needs_background": "light"
          }
        }
      ]
    },
    {
      "cell_type": "code",
      "metadata": {
        "id": "bxjZuhQW_ZK_"
      },
      "source": [
        "def test_model(model: torch.nn.Module, \n",
        "                            data_loader: torch.utils.data.DataLoader):\n",
        "    acc = 0\n",
        "    with torch.no_grad():\n",
        "        for x, y in data_loader:\n",
        "            x = x.to(device)\n",
        "            y = y.long()\n",
        "            y = y.to(device=device, dtype=torch.int64)\n",
        "            y_pred = model(x)\n",
        "            accuracy = torch.sum(torch.argmax(y_pred, dim=1) == y).to(torch.float).item()\n",
        "            acc += accuracy\n",
        "        acc /= len(test_dataset)\n",
        "\n",
        "    return acc"
      ],
      "execution_count": 62,
      "outputs": []
    },
    {
      "cell_type": "code",
      "metadata": {
        "id": "-yWuwuuruAI5",
        "colab": {
          "base_uri": "https://localhost:8080/"
        },
        "outputId": "0ecc6fb4-4725-45d3-8119-d18603d9a9fc"
      },
      "source": [
        "test_model(model, test_loader)"
      ],
      "execution_count": 66,
      "outputs": [
        {
          "output_type": "execute_result",
          "data": {
            "text/plain": [
              "0.757"
            ]
          },
          "metadata": {
            "tags": []
          },
          "execution_count": 66
        }
      ]
    },
    {
      "cell_type": "code",
      "metadata": {
        "id": "TlOnWW_ibql9"
      },
      "source": [
        ""
      ],
      "execution_count": null,
      "outputs": []
    }
  ]
}